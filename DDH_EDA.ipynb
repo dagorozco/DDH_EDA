{
  "nbformat": 4,
  "nbformat_minor": 0,
  "metadata": {
    "colab": {
      "name": "KT EDA.ipynb",
      "provenance": [],
      "collapsed_sections": []
    },
    "kernelspec": {
      "display_name": "Python 3",
      "name": "python3"
    },
    "language_info": {
      "name": "python"
    }
  },
  "cells": [
    {
      "cell_type": "markdown",
      "metadata": {
        "id": "YT1B1vhCi4gB"
      },
      "source": [
        "First step is to import the compiled drill data from Google Sheets"
      ]
    },
    {
      "cell_type": "code",
      "metadata": {
        "id": "F2g9kEDEini4"
      },
      "source": [
        "from google.colab import auth\n",
        "auth.authenticate_user()\n",
        "\n",
        "import gspread\n",
        "from oauth2client.client import GoogleCredentials\n",
        "\n",
        "gc = gspread.authorize(GoogleCredentials.get_application_default())\n",
        "\n",
        "worksheet = gc.open('Gleason Crenshaw Drillhole Compilation').sheet1\n",
        "\n",
        "# get_all_values gives a list of rows.\n",
        "rows = worksheet.get_all_values()\n",
        "#print(rows)\n",
        "\n",
        "# Convert to a DataFrame and render.\n",
        "import pandas as pd\n",
        "df = pd.DataFrame.from_records(rows)"
      ],
      "execution_count": null,
      "outputs": []
    },
    {
      "cell_type": "markdown",
      "metadata": {
        "id": "idsWYRRmlOij"
      },
      "source": [
        "Convert row 0 to header"
      ]
    },
    {
      "cell_type": "code",
      "metadata": {
        "id": "b0pkbiMmlSIJ"
      },
      "source": [
        "header_row = 0\n",
        "df.columns = df.iloc[header_row]\n",
        "df.head()"
      ],
      "execution_count": null,
      "outputs": []
    },
    {
      "cell_type": "code",
      "metadata": {
        "id": "gvK47vrlmuMA"
      },
      "source": [
        "df = df.drop(header_row)\n",
        "df.head()"
      ],
      "execution_count": null,
      "outputs": []
    },
    {
      "cell_type": "code",
      "metadata": {
        "id": "s7TiKKoNm_P6"
      },
      "source": [
        "df = df.reset_index(drop=True)\n",
        "df.head()"
      ],
      "execution_count": null,
      "outputs": []
    },
    {
      "cell_type": "markdown",
      "metadata": {
        "id": "FGSdvwGdnTvd"
      },
      "source": [
        "Clean the DataFrame by dropping some of the columns that won't be used (the Check From-To and CheckOnelevelUp)"
      ]
    },
    {
      "cell_type": "code",
      "metadata": {
        "id": "sV92P85Ep2Yo"
      },
      "source": [
        "df = df.drop(columns=['Check From-To', 'CheckOneLevelUp'])"
      ],
      "execution_count": null,
      "outputs": []
    },
    {
      "cell_type": "code",
      "metadata": {
        "id": "4LIAvRsEqzgQ"
      },
      "source": [
        "df.head()"
      ],
      "execution_count": null,
      "outputs": []
    },
    {
      "cell_type": "code",
      "metadata": {
        "id": "28QgyTFPtepR"
      },
      "source": [
        "import numpy as np"
      ],
      "execution_count": null,
      "outputs": []
    },
    {
      "cell_type": "markdown",
      "metadata": {
        "id": "Bv3zLU6Dtru4"
      },
      "source": [
        "Next step is to ensure that the columns to do the summary stats are numeric types"
      ]
    },
    {
      "cell_type": "code",
      "metadata": {
        "id": "B3XqgggFsmm9"
      },
      "source": [
        "df.dtypes"
      ],
      "execution_count": null,
      "outputs": []
    },
    {
      "cell_type": "markdown",
      "metadata": {
        "id": "GgnE2PawuqsX"
      },
      "source": [
        "Since many of the columns are not numeric, these need to be converted to numeric with the following code:"
      ]
    },
    {
      "cell_type": "code",
      "metadata": {
        "id": "JWohfdhVu14d"
      },
      "source": [
        "df['Total'] = pd.to_numeric(df['Total'], errors='coerce')"
      ],
      "execution_count": null,
      "outputs": []
    },
    {
      "cell_type": "code",
      "metadata": {
        "id": "ls4n0hK8vMjX"
      },
      "source": [
        "df['sio2_perc'] = pd.to_numeric(df['sio2_perc'], errors='coerce')\n",
        "df['al2o3_perc'] = pd.to_numeric(df['al2o3_perc'], errors='coerce')\n",
        "df['fe2o3_perc'] = pd.to_numeric(df['fe2o3_perc'], errors='coerce')\n",
        "df['tio2_perc'] = pd.to_numeric(df['tio2_perc'], errors='coerce')\n",
        "df['k2o_perc'] = pd.to_numeric(df['k2o_perc'], errors='coerce')\n",
        "df['loi'] = pd.to_numeric(df['loi'], errors='coerce')\n",
        "df['mbi'] = pd.to_numeric(df['mbi'], errors='coerce')\n",
        "df['carbon'] = pd.to_numeric(df['carbon'], errors='coerce')\n",
        "df['ssa'] = pd.to_numeric(df['ssa'], errors='coerce')\n",
        "df['sulfur'] = pd.to_numeric(df['sulfur'], errors='coerce')"
      ],
      "execution_count": null,
      "outputs": []
    },
    {
      "cell_type": "code",
      "metadata": {
        "id": "ULxlWTlEwHiS"
      },
      "source": [
        "df['Thickness_ft'] = pd.to_numeric(df['Thickness_ft'], errors='coerce')"
      ],
      "execution_count": null,
      "outputs": []
    },
    {
      "cell_type": "markdown",
      "metadata": {
        "id": "v34uvnldv6-G"
      },
      "source": [
        "Check that conversion is correct"
      ]
    },
    {
      "cell_type": "code",
      "metadata": {
        "id": "_1jSsHCrv_3m"
      },
      "source": [
        "df.dtypes"
      ],
      "execution_count": null,
      "outputs": []
    },
    {
      "cell_type": "markdown",
      "metadata": {
        "id": "IbnHVqQ9NkTk"
      },
      "source": [
        "Create a copy of ofiginal database to obtain a summary of statistics for all the test where value is greater than 0."
      ]
    },
    {
      "cell_type": "code",
      "metadata": {
        "id": "ahpTasl0NH8C"
      },
      "source": [
        "df_clean = df.copy()"
      ],
      "execution_count": null,
      "outputs": []
    },
    {
      "cell_type": "code",
      "metadata": {
        "id": "RBkLnPVQNgCC"
      },
      "source": [
        "real_values = df_clean._get_numeric_data()\n",
        "real_values[real_values < 0] = 0\n",
        "df_clean.mask(df_clean == 0).describe()\n"
      ],
      "execution_count": null,
      "outputs": []
    },
    {
      "cell_type": "markdown",
      "metadata": {
        "id": "Gz9tpA_cRiAt"
      },
      "source": [
        "There are some testing where clearly the maximum value is not right (SiO2, TiO2). Let find them."
      ]
    },
    {
      "cell_type": "code",
      "metadata": {
        "id": "tg0EedVNUQ9j"
      },
      "source": [
        "df_clean[df_clean.sio2_perc > 100]"
      ],
      "execution_count": null,
      "outputs": []
    },
    {
      "cell_type": "code",
      "metadata": {
        "id": "UUBJ_23xUuDU"
      },
      "source": [
        "df_clean[df_clean.tio2_perc > 100]"
      ],
      "execution_count": null,
      "outputs": []
    },
    {
      "cell_type": "markdown",
      "metadata": {
        "id": "GVVx0nO3VUk-"
      },
      "source": [
        "In order to obtain a clean summary of all stats, these suspicios values for SiO2 and TiO2 would be replaced for 0s"
      ]
    },
    {
      "cell_type": "code",
      "metadata": {
        "id": "V8A_Q-x-Vgdz"
      },
      "source": [
        "df_clean.loc[df_clean['sio2_perc'] > 100, 'sio2_perc'] = 0"
      ],
      "execution_count": null,
      "outputs": []
    },
    {
      "cell_type": "code",
      "metadata": {
        "id": "OJa1TW4pXSIq"
      },
      "source": [
        "df_clean.loc[df_clean['tio2_perc'] > 100, 'tio2_perc'] = 0"
      ],
      "execution_count": null,
      "outputs": []
    },
    {
      "cell_type": "markdown",
      "metadata": {
        "id": "SB_CUZz8Gf3F"
      },
      "source": [
        "Jackson and Lovelace have the exact same data as both are part of the same group of properties, in order to avoid any bias rows for Lovelace would be dropped."
      ]
    },
    {
      "cell_type": "code",
      "metadata": {
        "id": "QCmv0ee7Pxxd"
      },
      "source": [
        "df_clean.drop(df_clean[df_clean['Property'] == 'Lovelace'].index, inplace= True)"
      ],
      "execution_count": null,
      "outputs": []
    },
    {
      "cell_type": "code",
      "metadata": {
        "id": "zEv_2d50XLs9"
      },
      "source": [
        "df_clean.mask(df_clean == 0).describe()"
      ],
      "execution_count": null,
      "outputs": []
    },
    {
      "cell_type": "markdown",
      "metadata": {
        "id": "VKSxf-41wSeO"
      },
      "source": [
        "Summary for each column based on different properties"
      ]
    },
    {
      "cell_type": "code",
      "metadata": {
        "id": "KHMpGfvX0Rca"
      },
      "source": [
        "df_clean.mask(df_clean == 0).groupby('Property').describe()"
      ],
      "execution_count": null,
      "outputs": []
    },
    {
      "cell_type": "markdown",
      "metadata": {
        "id": "pOlw7qG-Xro6"
      },
      "source": [
        "Now the descriptive stats per test type and per property would be exported to GS"
      ]
    },
    {
      "cell_type": "code",
      "metadata": {
        "id": "Lj_mI4UyYPeQ"
      },
      "source": [
        "summary_by_test = df_clean.mask(df_clean == 0).describe()"
      ],
      "execution_count": null,
      "outputs": []
    },
    {
      "cell_type": "markdown",
      "metadata": {
        "id": "VwM4oFt-ggjr"
      },
      "source": [
        "Reset index in order to include the column describing the parameters, otherwise it wont't be written in GS. Same for the summary by property."
      ]
    },
    {
      "cell_type": "code",
      "metadata": {
        "id": "8V0qXmCJfz4E"
      },
      "source": [
        "summary_by_test = summary_by_test.reset_index()"
      ],
      "execution_count": null,
      "outputs": []
    },
    {
      "cell_type": "code",
      "metadata": {
        "id": "DCV9mTO3ZIZt"
      },
      "source": [
        "from gspread_dataframe import set_with_dataframe"
      ],
      "execution_count": null,
      "outputs": []
    },
    {
      "cell_type": "code",
      "metadata": {
        "id": "C-cV0vwoZmsg"
      },
      "source": [
        "gc2 = gspread.authorize(GoogleCredentials.get_application_default())\n",
        "summary = gc2.open('KT EDA Summary tables').get_worksheet(0)"
      ],
      "execution_count": null,
      "outputs": []
    },
    {
      "cell_type": "code",
      "metadata": {
        "id": "0wgy7DFiceGw"
      },
      "source": [
        "set_with_dataframe(summary, summary_by_test)"
      ],
      "execution_count": null,
      "outputs": []
    },
    {
      "cell_type": "code",
      "metadata": {
        "id": "JjmON8OQYuYF"
      },
      "source": [
        "summary_by_prop = df_clean.mask(df_clean == 0).groupby('Property').describe()"
      ],
      "execution_count": null,
      "outputs": []
    },
    {
      "cell_type": "code",
      "metadata": {
        "id": "kM_BAD18gTkA"
      },
      "source": [
        "summary_by_prop = summary_by_prop.reset_index()"
      ],
      "execution_count": null,
      "outputs": []
    },
    {
      "cell_type": "code",
      "metadata": {
        "id": "9Yqaw2zAcVqK"
      },
      "source": [
        "gc3 = gspread.authorize(GoogleCredentials.get_application_default())\n",
        "summary_prop = gc3.open('KT EDA Summary tables').get_worksheet(1)"
      ],
      "execution_count": null,
      "outputs": []
    },
    {
      "cell_type": "code",
      "metadata": {
        "id": "qqLTrrhMdP4f"
      },
      "source": [
        "set_with_dataframe(summary_prop, summary_by_prop)"
      ],
      "execution_count": null,
      "outputs": []
    },
    {
      "cell_type": "markdown",
      "metadata": {
        "id": "-pjJlLo8ilw4"
      },
      "source": [
        "Next we would work on the graphs"
      ]
    },
    {
      "cell_type": "code",
      "metadata": {
        "id": "lIqrJDh1wlTw"
      },
      "source": [
        "import seaborn as sns\n",
        "import matplotlib.pyplot as plt\n",
        "sns.set()"
      ],
      "execution_count": null,
      "outputs": []
    },
    {
      "cell_type": "code",
      "metadata": {
        "id": "5manq01u0Stc"
      },
      "source": [
        "df_clean['SampleCount'] = pd.to_numeric(df_clean['SampleCount'], errors='coerce')"
      ],
      "execution_count": null,
      "outputs": []
    },
    {
      "cell_type": "code",
      "metadata": {
        "id": "xWbAC8HMzWda"
      },
      "source": [
        "df_clean.head()"
      ],
      "execution_count": null,
      "outputs": []
    },
    {
      "cell_type": "code",
      "metadata": {
        "id": "G2BrFpAv8eaQ"
      },
      "source": [
        "import scipy.stats\n",
        "from scipy.stats import norm"
      ],
      "execution_count": null,
      "outputs": []
    },
    {
      "cell_type": "code",
      "metadata": {
        "id": "UAxegeCLxFZw"
      },
      "source": [
        "multi_graph = sns.FacetGrid(df_clean, col='Property', col_wrap=3, xlim=(40,100), ylim=(0,800))\n",
        "multi_graph.map(sns.histplot, \"sio2_perc\")"
      ],
      "execution_count": null,
      "outputs": []
    },
    {
      "cell_type": "code",
      "metadata": {
        "id": "jP7Yz_ijEXMN"
      },
      "source": [
        "multi_graph = sns.FacetGrid(df_clean, col='Property', col_wrap=3, xlim=(0,10))\n",
        "multi_graph.map(sns.histplot, \"Total\")"
      ],
      "execution_count": null,
      "outputs": []
    },
    {
      "cell_type": "code",
      "metadata": {
        "id": "9OyKr8N7GkdQ"
      },
      "source": [
        "alumina = df_clean[['Property', 'al2o3_perc']].copy()"
      ],
      "execution_count": null,
      "outputs": []
    },
    {
      "cell_type": "code",
      "metadata": {
        "id": "_D7N1ou6FUJC"
      },
      "source": [
        "multi_graph = sns.FacetGrid(alumina, col='Property', col_wrap=3, xlim=(0,70), ylim=(0,750))\n",
        "multi_graph.map(sns.histplot, \"al2o3_perc\")"
      ],
      "execution_count": null,
      "outputs": []
    },
    {
      "cell_type": "code",
      "metadata": {
        "id": "qNoiR0DzH4vz"
      },
      "source": [
        "alumina.drop(alumina[alumina['al2o3_perc'] == 0].index, inplace= True)"
      ],
      "execution_count": null,
      "outputs": []
    },
    {
      "cell_type": "code",
      "metadata": {
        "id": "yXY-nqTVvaKi"
      },
      "source": [
        "silica = df_clean[['Property', 'sio2_perc']].copy()\n",
        "silica.drop(silica[silica['sio2_perc'] == 0].index, inplace= True)"
      ],
      "execution_count": null,
      "outputs": []
    },
    {
      "cell_type": "code",
      "metadata": {
        "id": "LIIsbUbeIut1"
      },
      "source": [
        "iron = df_clean[['Property', 'fe2o3_perc']].copy()\n",
        "iron.drop(iron[iron['fe2o3_perc'] == 0].index, inplace= True)"
      ],
      "execution_count": null,
      "outputs": []
    },
    {
      "cell_type": "code",
      "metadata": {
        "id": "3laHSLLmKGgb"
      },
      "source": [
        "multi_graph = sns.FacetGrid(iron, col='Property', col_wrap=3, xlim=(0,5), ylim=(0,650))\n",
        "multi_graph.map(sns.histplot, \"fe2o3_perc\")"
      ],
      "execution_count": null,
      "outputs": []
    },
    {
      "cell_type": "code",
      "metadata": {
        "id": "V3X4TZItPatX"
      },
      "source": [
        "titanium = df_clean[['Property', 'tio2_perc']].copy()\n",
        "titanium.drop(titanium[titanium['tio2_perc'] == 0].index, inplace= True)"
      ],
      "execution_count": null,
      "outputs": []
    },
    {
      "cell_type": "code",
      "metadata": {
        "id": "26nT96Z8Pqpg"
      },
      "source": [
        "multi_graph = sns.FacetGrid(titanium, col='Property', col_wrap=3, xlim=(0,4), ylim=(0,800))\n",
        "multi_graph.map(sns.histplot, \"tio2_perc\")"
      ],
      "execution_count": null,
      "outputs": []
    },
    {
      "cell_type": "code",
      "metadata": {
        "id": "B1V3s0DFQYOw"
      },
      "source": [
        "k2o = df_clean[['Property', 'k2o_perc']].copy()\n",
        "k2o.drop(k2o[k2o['k2o_perc'] == 0].index, inplace= True)\n",
        "multi_graph = sns.FacetGrid(k2o, col='Property', col_wrap=3, xlim=(0,5))\n",
        "multi_graph.map(sns.histplot, \"k2o_perc\", binwidth=0.1)"
      ],
      "execution_count": null,
      "outputs": []
    },
    {
      "cell_type": "code",
      "metadata": {
        "id": "nRFGU2wYSTBL"
      },
      "source": [
        "loi = df_clean[['Property', 'loi']].copy()\n",
        "loi.drop(loi[loi['loi'] == 0].index, inplace= True)\n",
        "multi_graph = sns.FacetGrid(loi, col='Property', col_wrap=3, xlim=(0,20))\n",
        "multi_graph.map(sns.histplot, \"loi\", binwidth=0.5)"
      ],
      "execution_count": null,
      "outputs": []
    },
    {
      "cell_type": "code",
      "metadata": {
        "id": "1qolIfblT0Kv"
      },
      "source": [
        "mbi = df_clean[['Property', 'mbi']].copy()\n",
        "mbi.drop(mbi[mbi['mbi'] == 0].index, inplace= True)\n",
        "multi_graph = sns.FacetGrid(mbi, col='Property', col_wrap=3, xlim=(0,30))\n",
        "multi_graph.map(sns.histplot, \"mbi\", binwidth=1)"
      ],
      "execution_count": null,
      "outputs": []
    },
    {
      "cell_type": "code",
      "metadata": {
        "id": "F4R-SlgGkJFS"
      },
      "source": [
        "carbon = df_clean[['Property', 'carbon']].copy()\n",
        "carbon.drop(carbon[carbon['carbon'] == 0].index, inplace= True)\n",
        "multi_graph = sns.FacetGrid(carbon, col='Property', col_wrap=3, xlim=(0,1))\n",
        "multi_graph.map(sns.histplot, \"carbon\", binwidth=0.05)"
      ],
      "execution_count": null,
      "outputs": []
    },
    {
      "cell_type": "code",
      "metadata": {
        "id": "V7I8ziVin5J7"
      },
      "source": [
        "ssa = df_clean[['Property', 'ssa']].copy()\n",
        "ssa.drop(ssa[ssa['ssa'] == 0].index, inplace= True)\n",
        "multi_graph = sns.FacetGrid(ssa, col='Property', col_wrap=3, xlim=(0,70))\n",
        "multi_graph.map(sns.histplot, \"ssa\")"
      ],
      "execution_count": null,
      "outputs": []
    },
    {
      "cell_type": "code",
      "metadata": {
        "id": "BhhlYUOKof0k"
      },
      "source": [
        "sulfur = df_clean[['Property', 'sulfur']].copy()\n",
        "sulfur.drop(sulfur[sulfur['sulfur'] == 0].index, inplace= True)\n",
        "multi_graph = sns.FacetGrid(sulfur, col='Property', col_wrap=3, xlim=(0,1000))\n",
        "multi_graph.map(sns.histplot, \"sulfur\")"
      ],
      "execution_count": null,
      "outputs": []
    },
    {
      "cell_type": "code",
      "metadata": {
        "id": "Dr9Racxvph6W"
      },
      "source": [
        "total = df_clean[['Property', 'Total']].copy()\n",
        "total.drop(total[total['Total'] == 0].index, inplace= True)"
      ],
      "execution_count": null,
      "outputs": []
    },
    {
      "cell_type": "code",
      "metadata": {
        "id": "Q0kjnzygo2b_"
      },
      "source": [
        "sns.histplot(data=total, x='Total', bins=100)\n",
        "plt.xlim([0,30])\n"
      ],
      "execution_count": null,
      "outputs": []
    },
    {
      "cell_type": "code",
      "metadata": {
        "id": "B1XWR3Jrvswv"
      },
      "source": [
        "sns.histplot(data=silica, x='sio2_perc', binwidth=4)\n",
        "plt.xlim([40,90])"
      ],
      "execution_count": null,
      "outputs": []
    },
    {
      "cell_type": "code",
      "metadata": {
        "id": "irVgWjaut-ZU"
      },
      "source": [
        "sns.histplot(data=alumina, x='al2o3_perc', binwidth=2)\n",
        "plt.xlim([10,40])"
      ],
      "execution_count": null,
      "outputs": []
    },
    {
      "cell_type": "code",
      "metadata": {
        "id": "CAhYccDSwcQJ"
      },
      "source": [
        "sns.histplot(data=iron, x='fe2o3_perc', binwidth=0.25)\n",
        "plt.xlim([0,5])"
      ],
      "execution_count": null,
      "outputs": []
    },
    {
      "cell_type": "code",
      "metadata": {
        "id": "BoDh4L7uw6YV"
      },
      "source": [
        "sns.histplot(data=titanium, x='tio2_perc', binwidth=0.25)\n",
        "plt.xlim([0,5])"
      ],
      "execution_count": null,
      "outputs": []
    },
    {
      "cell_type": "code",
      "metadata": {
        "id": "ECPgctqexU_K"
      },
      "source": [
        "sns.histplot(data=k2o, x='k2o_perc', binwidth=0.15)\n",
        "plt.xlim([0,3])"
      ],
      "execution_count": null,
      "outputs": []
    },
    {
      "cell_type": "code",
      "metadata": {
        "id": "0mgYWJdUxwaV"
      },
      "source": [
        "sns.histplot(data=loi, x='loi', binwidth=1)\n",
        "plt.xlim([0,30])"
      ],
      "execution_count": null,
      "outputs": []
    },
    {
      "cell_type": "code",
      "metadata": {
        "id": "zuQ5bic9yA2Q"
      },
      "source": [
        "sns.histplot(data=mbi, x='mbi', binwidth=2)\n",
        "plt.xlim([0,30])"
      ],
      "execution_count": null,
      "outputs": []
    },
    {
      "cell_type": "code",
      "metadata": {
        "id": "iqV6sW53yRkZ"
      },
      "source": [
        "sns.histplot(data=carbon, x='carbon', binwidth=0.1)\n",
        "plt.xlim([0,2])"
      ],
      "execution_count": null,
      "outputs": []
    },
    {
      "cell_type": "code",
      "metadata": {
        "id": "Dfuo2e4mygLM"
      },
      "source": [
        "sns.histplot(data=ssa, x='ssa', binwidth=2)\n",
        "plt.xlim([0,50])"
      ],
      "execution_count": null,
      "outputs": []
    },
    {
      "cell_type": "code",
      "metadata": {
        "id": "s2NKDlE8zVj3"
      },
      "source": [
        "sns.histplot(data=sulfur, x='sulfur', binwidth=10)\n",
        "plt.xlim([0,1000])"
      ],
      "execution_count": null,
      "outputs": []
    },
    {
      "cell_type": "markdown",
      "metadata": {
        "id": "T_v-X1DIAYGf"
      },
      "source": [
        "Now let's build the scatterplots to investigate any correlation. The thickness and sample count columns would be removed."
      ]
    },
    {
      "cell_type": "code",
      "metadata": {
        "id": "rVnb7sUHCYGL"
      },
      "source": [
        "df_clean2 = df_clean.drop(columns=['Thickness_ft','SampleCount'])"
      ],
      "execution_count": null,
      "outputs": []
    },
    {
      "cell_type": "code",
      "metadata": {
        "id": "iZGYcQXBLPCd"
      },
      "source": [
        "df_clean2 = df_clean2.drop(columns=['ModifiedHoleID', 'SampleID', 'HoleID', 'From', 'To'])"
      ],
      "execution_count": null,
      "outputs": []
    },
    {
      "cell_type": "code",
      "metadata": {
        "id": "K-rDy5sIJ05f"
      },
      "source": [
        "df_clean2.head()"
      ],
      "execution_count": null,
      "outputs": []
    },
    {
      "cell_type": "code",
      "metadata": {
        "id": "k4sCTRhzJ9RE"
      },
      "source": [
        "cols = ['sio2_perc', 'al2o3_perc', 'fe2o3_perc', 'tio2_perc', 'k2o_perc', 'loi', 'mbi', 'carbon', 'ssa', 'sulfur']\n",
        "df_clean2[cols] = df_clean2[cols].replace({0:np.nan, 0:np.nan})"
      ],
      "execution_count": null,
      "outputs": []
    },
    {
      "cell_type": "code",
      "metadata": {
        "id": "4ak864dbLzaJ"
      },
      "source": [
        "df_clean2.head()"
      ],
      "execution_count": null,
      "outputs": []
    },
    {
      "cell_type": "code",
      "metadata": {
        "colab": {
          "background_save": true
        },
        "id": "mFUhrNLAAXvJ"
      },
      "source": [
        "corrs = sns.PairGrid(df_clean2, diag_sharey=False, corner=True, dropna=True)\n",
        "corrs.map_diag(sns.histplot)\n",
        "corrs.map_lower(sns.scatterplot)"
      ],
      "execution_count": null,
      "outputs": []
    },
    {
      "cell_type": "code",
      "metadata": {
        "id": "G_g0glOMbVtE"
      },
      "source": [
        "corrs = sns.PairGrid(df_clean2, diag_sharey=False, corner=True, dropna=True)\n",
        "corrs.map_diag(sns.histplot)\n",
        "corrs.map_lower(sns.regplot)"
      ],
      "execution_count": null,
      "outputs": []
    },
    {
      "cell_type": "code",
      "metadata": {
        "id": "Bo4d1HNffpY6"
      },
      "source": [
        "df_clean2.corr()"
      ],
      "execution_count": null,
      "outputs": []
    }
  ]
}